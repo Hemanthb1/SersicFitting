{
 "cells": [
  {
   "cell_type": "markdown",
   "metadata": {},
   "source": [
    "Sersic Profile fitting"
   ]
  },
  {
   "cell_type": "code",
   "execution_count": 66,
   "metadata": {},
   "outputs": [
    {
     "data": {
      "text/plain": [
       "(array([6.19441075e+17, 6.60693448e+17, 5.01187234e+17, 3.69828180e+17,\n",
       "        2.72897778e+17, 2.46603934e+17, 2.20800473e+17, 1.73780083e+17,\n",
       "        1.51356125e+17, 1.34276496e+17, 1.21338885e+17, 1.04712855e+17,\n",
       "        9.12010839e+16, 7.51622894e+16, 5.49540874e+16, 5.05824662e+16,\n",
       "        4.87528490e+16, 3.56451133e+16, 2.83139200e+16, 2.05116218e+16,\n",
       "        1.29419584e+16, 7.65596607e+15, 5.24807460e+15, 3.37287309e+15,\n",
       "        3.22106879e+15, 2.14783047e+15, 1.58489319e+15, 1.12719746e+15,\n",
       "        6.42687717e+14, 3.31131121e+14, 2.83139200e+14, 2.39883292e+14,\n",
       "        2.58226019e+14]),\n",
       " array([  2.4,   6.6,  11.4,  15.6,  20.4,  24.6,  29.4,  33.6,  37.8,\n",
       "         42.6,  46.8,  51.6,  55.8,  60.6,  64.8,  69.6,  73.8,  78. ,\n",
       "         90. , 102. , 114. , 126. , 138. , 150. , 162. , 174. , 186. ,\n",
       "        198. , 222. , 234. , 246. , 258. , 318. ]))"
      ]
     },
     "execution_count": 66,
     "metadata": {},
     "output_type": "execute_result"
    }
   ],
   "source": [
    "import numpy as np\n",
    "from astropy.modeling import models, fitting\n",
    "from astropy.modeling.models import Sersic1D\n",
    "##\n",
    "data =np.loadtxt(r'C:\\Users\\MayHem\\Downloads\\SBP.txt')\n",
    "##\n",
    "rd =  data[:,0]*60\n",
    "mu =  data[:,1] \n",
    "I  =   10**(26.4-mu/2.5)\n",
    "###########################################Fitting \n",
    "I,rd\n",
    "\n",
    "\n"
   ]
  },
  {
   "cell_type": "code",
   "execution_count": 71,
   "metadata": {},
   "outputs": [],
   "source": [
    "sers = Sersic1D(amplitude=1.21e17, r_eff=46.8,n=1)\n",
    "fit_sers_l02 = fitting.LevMarLSQFitter()\n",
    "Sers_l02 = fit_sers_l02(sers,rd,I)"
   ]
  },
  {
   "cell_type": "code",
   "execution_count": 72,
   "metadata": {},
   "outputs": [
    {
     "data": {
      "image/png": "[encoded data removed]",
      "text/plain": [
       "<Figure size 432x288 with 1 Axes>"
      ]
     },
     "metadata": {
      "needs_background": "light"
     },
     "output_type": "display_data"
    }
   ],
   "source": [
    "import matplotlib.pyplot as plt\n",
    "plt.plot(rd,Sers_l02(rd))\n",
    "plt.plot(rd,I)\n",
    "#plt.plot(rd,sers(rd))\n",
    "plt.xscale('log')\n",
    "plt.yscale('log')"
   ]
  },
  {
   "cell_type": "code",
   "execution_count": 75,
   "metadata": {},
   "outputs": [
    {
     "name": "stdout",
     "output_type": "stream",
     "text": [
      "Model: Sersic1D\n",
      "Inputs: ('x',)\n",
      "Outputs: ('y',)\n",
      "Model set size: 1\n",
      "Parameters:\n",
      "          amplitude              r_eff               n         \n",
      "    ---------------------- ----------------- ------------------\n",
      "    1.3738318995569696e+17 41.37931598435349 1.0078238806614492\n"
     ]
    }
   ],
   "source": [
    "print(Sers_l02)"
   ]
  },
  {
   "cell_type": "code",
   "execution_count": 76,
   "metadata": {},
   "outputs": [],
   "source": [
    "import numpy as np\n",
    "from scipy.integrate import simps\n",
    "L= 2 * np.pi * rd * Sers_l02(rd)\n",
    "L=np.trapz()\n"
   ]
  },
  {
   "cell_type": "code",
   "execution_count": 78,
   "metadata": {},
   "outputs": [
    {
     "data": {
      "text/plain": [
       "1.6598380754106126e+19"
      ]
     },
     "execution_count": 78,
     "metadata": {},
     "output_type": "execute_result"
    }
   ],
   "source": [
    "from sklearn import metrics\n",
    "metrics.auc(rd,Sers_l02(rd))"
   ]
  },
  {
   "cell_type": "markdown",
   "metadata": {},
   "source": [
    "Total Luminosity is 1.6e19 solar luminosity"
   ]
  }
 ],
 "metadata": {
  "kernelspec": {
   "display_name": "Python 3",
   "language": "python",
   "name": "python3"
  },
  "language_info": {
   "codemirror_mode": {
    "name": "ipython",
    "version": 3
   },
   "file_extension": ".py",
   "mimetype": "text/x-python",
   "name": "python",
   "nbconvert_exporter": "python",
   "pygments_lexer": "ipython3",
   "version": "3.7.3"
  }
 },
 "nbformat": 4,
 "nbformat_minor": 2
}
